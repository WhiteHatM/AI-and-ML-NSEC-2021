{
 "cells": [
  {
   "cell_type": "markdown",
   "metadata": {},
   "source": [
    "# Assignment 1"
   ]
  },
  {
   "cell_type": "markdown",
   "metadata": {},
   "source": [
    "### Name - Manodeep Mandal. Class Roll -31"
   ]
  },
  {
   "cell_type": "markdown",
   "metadata": {},
   "source": [
    "#### 1. Write a Python program to calculate the length of a string."
   ]
  },
  {
   "cell_type": "code",
   "execution_count": 1,
   "metadata": {},
   "outputs": [
    {
     "name": "stdout",
     "output_type": "stream",
     "text": [
      "Enter a string: Manodeep\n",
      "Length of the input string is: 8\n"
     ]
    }
   ],
   "source": [
    "str = input(\"Enter a string: \")\n",
    "\n",
    "count = 0\n",
    "for s in str:\n",
    "      count+=1\n",
    "print(\"Length of the input string is:\", count)"
   ]
  },
  {
   "cell_type": "markdown",
   "metadata": {},
   "source": [
    "#### 2. Write a Python program to count the number of characters (character frequency) in a string. "
   ]
  },
  {
   "cell_type": "code",
   "execution_count": 11,
   "metadata": {},
   "outputs": [
    {
     "name": "stdout",
     "output_type": "stream",
     "text": [
      "{'g': 2, 'o': 3, 'l': 1, 'e': 1, '.': 1, 'c': 1, 'm': 1}\n"
     ]
    }
   ],
   "source": [
    "def frequency(str1):\n",
    "    dict = {}\n",
    "    for n in str1:\n",
    "        keys = dict.keys()\n",
    "        if n in keys:\n",
    "            dict[n] += 1\n",
    "        else:\n",
    "            dict[n] = 1\n",
    "    return dict\n",
    "print(frequency('google.com'))"
   ]
  },
  {
   "cell_type": "markdown",
   "metadata": {},
   "source": [
    "#### 3. Write a Python program to sum all the items in a list."
   ]
  },
  {
   "cell_type": "code",
   "execution_count": 14,
   "metadata": {},
   "outputs": [
    {
     "name": "stdout",
     "output_type": "stream",
     "text": [
      "Sum of all elements in given list:  150\n"
     ]
    }
   ],
   "source": [
    "sum = 0\n",
    "list = [10,20,30,40,50]\n",
    "\n",
    "for i in range(0, len(list)):\n",
    "    sum = sum + list[i]\n",
    "\n",
    "print(\"Sum of all elements in given list: \", sum)"
   ]
  },
  {
   "cell_type": "markdown",
   "metadata": {},
   "source": [
    "#### 5. Write a Python program to get the largest number from a list.  "
   ]
  },
  {
   "cell_type": "code",
   "execution_count": 16,
   "metadata": {},
   "outputs": [
    {
     "name": "stdout",
     "output_type": "stream",
     "text": [
      "Maximum number in the list: 50\n"
     ]
    }
   ],
   "source": [
    "def max_num( list ):\n",
    "    max = list[ 0 ]\n",
    "    for a in list:\n",
    "        if a > max:\n",
    "            max = a\n",
    "    return max\n",
    "print(\"Maximum number in the list: {}\".format(max_num([10, 20, 50, 1])))\n"
   ]
  },
  {
   "cell_type": "markdown",
   "metadata": {},
   "source": [
    "#### 6. Write a Python program to find the list of words that are longer than n from a given list of words "
   ]
  },
  {
   "cell_type": "code",
   "execution_count": 19,
   "metadata": {},
   "outputs": [
    {
     "name": "stdout",
     "output_type": "stream",
     "text": [
      "Enter strings : The quick brown fox jumps over the lazy dog\n",
      "Enter value of n 3\n",
      "List of words,longer than 3 letters is/are ['quick', 'brown', 'jumps', 'over', 'lazy'] : \n"
     ]
    }
   ],
   "source": [
    "str=input(\"Enter strings : \")\n",
    "a=str.split(\" \")\n",
    "b=[]\n",
    "n=int(input(\"Enter value of n \"))\n",
    "\n",
    "for i in a:\n",
    "    if (len(i)> n) :\n",
    "        b.append(i)\n",
    "\n",
    "print(\"List of words,longer than {0} letters is/are {1} : \".format(n,b))"
   ]
  },
  {
   "cell_type": "markdown",
   "metadata": {},
   "source": [
    "#### 7. Write a Python function that takes two lists and returns True if they have at least one common member. "
   ]
  },
  {
   "cell_type": "code",
   "execution_count": 33,
   "metadata": {},
   "outputs": [
    {
     "name": "stdout",
     "output_type": "stream",
     "text": [
      "Enter first list: 2 5 7\n",
      "Enter second list: 8 9 2\n",
      "True\n"
     ]
    }
   ],
   "source": [
    "def common(list1,list2):\n",
    "    result = False\n",
    "    \n",
    "    for i in list1:\n",
    "        for j in list2:\n",
    "            #if one common\n",
    "            if i==j:\n",
    "                result = True\n",
    "                return result\n",
    "    return result\n",
    "\n",
    "a = {x for x in input(\"Enter first list: \").split()}\n",
    "b = {y for y in input(\"Enter second list: \").split()}\n",
    "print(common(a,b))"
   ]
  },
  {
   "cell_type": "markdown",
   "metadata": {},
   "source": [
    "#### 8. Write a Python program to print the numbers of a specified list after removing even numbers from it. "
   ]
  },
  {
   "cell_type": "code",
   "execution_count": 35,
   "metadata": {},
   "outputs": [
    {
     "data": {
      "text/plain": [
       "[5, 7, 65, 89]"
      ]
     },
     "execution_count": 35,
     "metadata": {},
     "output_type": "execute_result"
    }
   ],
   "source": [
    "def remove_even(list1):\n",
    "    for i in list1:\n",
    "        if i % 2 == 0:\n",
    "            list1.remove(i)\n",
    "    return list1\n",
    "\n",
    "remove_even([2,5,7,65,89,58])"
   ]
  },
  {
   "cell_type": "markdown",
   "metadata": {},
   "source": [
    "#### 9. Write a Python program to get the frequency of the elements in a list. "
   ]
  },
  {
   "cell_type": "code",
   "execution_count": 41,
   "metadata": {},
   "outputs": [
    {
     "name": "stdout",
     "output_type": "stream",
     "text": [
      "1 : 2\n",
      "58 : 2\n",
      "65 : 1\n",
      "2 : 2\n",
      "5 : 1\n"
     ]
    }
   ],
   "source": [
    "list1 = [1,58,65,1,2,5,2,58]\n",
    "count = {}\n",
    "for element in list1:\n",
    "   if element in count:\n",
    "      count[element] += 1\n",
    "   else:\n",
    "      count[element] = 1\n",
    "for key, value in count.items():\n",
    "   print(\"{0} : {1}\".format(key,value))\n"
   ]
  },
  {
   "cell_type": "markdown",
   "metadata": {},
   "source": [
    "#### 10. Write a Python program to find common items from two lists. "
   ]
  },
  {
   "cell_type": "code",
   "execution_count": 45,
   "metadata": {},
   "outputs": [
    {
     "name": "stdout",
     "output_type": "stream",
     "text": [
      "Enter first list: 2 5 8\n",
      "Enter second list: 2 69 45\n",
      "{'2'}\n"
     ]
    }
   ],
   "source": [
    "def common_member(list1, list2):\n",
    "    list1_set = set(list1)\n",
    "    list2_set = set(list2)\n",
    "  \n",
    "    if (list1_set & list2_set):\n",
    "        return(list1_set & list2_set)\n",
    "    else:\n",
    "        print(\"No common elements\") \n",
    "a = {x for x in input(\"Enter first list: \").split()}\n",
    "b = {y for y in input(\"Enter second list: \").split()}\n",
    "print(common_member(a,b))"
   ]
  }
 ],
 "metadata": {
  "kernelspec": {
   "display_name": "Python 3",
   "language": "python",
   "name": "python3"
  },
  "language_info": {
   "codemirror_mode": {
    "name": "ipython",
    "version": 3
   },
   "file_extension": ".py",
   "mimetype": "text/x-python",
   "name": "python",
   "nbconvert_exporter": "python",
   "pygments_lexer": "ipython3",
   "version": "3.8.5"
  }
 },
 "nbformat": 4,
 "nbformat_minor": 4
}
